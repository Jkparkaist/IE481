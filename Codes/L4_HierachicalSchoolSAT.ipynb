{
 "cells": [
  {
   "cell_type": "markdown",
   "metadata": {},
   "source": [
    "# Hierarchical Bayesian Inference of Normal Means #\n",
    "\n",
    "This notebook is based on Chapter 5.4, 5.5 and 5.6 of 'Bayesian Data Analysis' (Gelman et. al, 3rd Edition).\n",
    "\n",
    "Suppose we have $J$ observations $\\bar{y}_{\\cdot j} \\mid \\theta_j \\sim \\text{N}(\\theta_j, \\sigma_j^2)$, conditionally independent of each other given its parameters.  The variance parameter $\\sigma_j^2$ is assumed to be known, and the mean parameter $\\theta_j$'s are independently sampled from prior $\\text{N}(\\mu, \\tau^2)$.  Finally, we assign uniform hyperprior distribution for $\\mu$ given $\\tau$:\n",
    "$$\n",
    "p(\\mu,\\tau) = p(\\mu \\mid \\tau) p(\\tau) \\propto p(\\tau).\n",
    "$$"
   ]
  },
  {
   "cell_type": "code",
   "execution_count": 1,
   "metadata": {
    "collapsed": false
   },
   "outputs": [
    {
     "name": "stdout",
     "output_type": "stream",
     "text": [
      "Populating the interactive namespace from numpy and matplotlib\n"
     ]
    }
   ],
   "source": [
    "# prepare inline pylab\n",
    "% pylab inline"
   ]
  },
  {
   "cell_type": "markdown",
   "metadata": {},
   "source": [
    "## Parallel Experiments in Eight Schools (BDA 5.5) ##\n",
    "\n",
    "Please refer to the corresponding chapter of the book for description of the data.  I typed the data myself:"
   ]
  },
  {
   "cell_type": "code",
   "execution_count": 2,
   "metadata": {
    "collapsed": false
   },
   "outputs": [],
   "source": [
    "# load hand-typed data\n",
    "from pandas import *\n",
    "import numpy as np\n",
    "school_data = DataFrame(data={'means':[28,8,-3,7,-1,1,18,12],'serrs':[15,10,16,11,9,11,10,18]},\n",
    "                        index=['A','B','C','D','E','F','G','H'])"
   ]
  },
  {
   "cell_type": "code",
   "execution_count": 3,
   "metadata": {
    "collapsed": false
   },
   "outputs": [
    {
     "data": {
      "text/html": [
       "<div>\n",
       "<table border=\"1\" class=\"dataframe\">\n",
       "  <thead>\n",
       "    <tr style=\"text-align: right;\">\n",
       "      <th></th>\n",
       "      <th>means</th>\n",
       "      <th>serrs</th>\n",
       "    </tr>\n",
       "  </thead>\n",
       "  <tbody>\n",
       "    <tr>\n",
       "      <th>A</th>\n",
       "      <td>28</td>\n",
       "      <td>15</td>\n",
       "    </tr>\n",
       "    <tr>\n",
       "      <th>B</th>\n",
       "      <td>8</td>\n",
       "      <td>10</td>\n",
       "    </tr>\n",
       "    <tr>\n",
       "      <th>C</th>\n",
       "      <td>-3</td>\n",
       "      <td>16</td>\n",
       "    </tr>\n",
       "    <tr>\n",
       "      <th>D</th>\n",
       "      <td>7</td>\n",
       "      <td>11</td>\n",
       "    </tr>\n",
       "    <tr>\n",
       "      <th>E</th>\n",
       "      <td>-1</td>\n",
       "      <td>9</td>\n",
       "    </tr>\n",
       "    <tr>\n",
       "      <th>F</th>\n",
       "      <td>1</td>\n",
       "      <td>11</td>\n",
       "    </tr>\n",
       "    <tr>\n",
       "      <th>G</th>\n",
       "      <td>18</td>\n",
       "      <td>10</td>\n",
       "    </tr>\n",
       "    <tr>\n",
       "      <th>H</th>\n",
       "      <td>12</td>\n",
       "      <td>18</td>\n",
       "    </tr>\n",
       "  </tbody>\n",
       "</table>\n",
       "</div>"
      ],
      "text/plain": [
       "   means  serrs\n",
       "A     28     15\n",
       "B      8     10\n",
       "C     -3     16\n",
       "D      7     11\n",
       "E     -1      9\n",
       "F      1     11\n",
       "G     18     10\n",
       "H     12     18"
      ]
     },
     "execution_count": 3,
     "metadata": {},
     "output_type": "execute_result"
    }
   ],
   "source": [
    "# the data looks like this\n",
    "school_data"
   ]
  },
  {
   "cell_type": "markdown",
   "metadata": {},
   "source": [
    "Since mean parameters are conjugate to each other, only tricky part is the standard deviation parameter $\\tau$ for group means.  We marginalize out all other variables to make inference on $\\tau$."
   ]
  },
  {
   "cell_type": "code",
   "execution_count": 3,
   "metadata": {
    "collapsed": false
   },
   "outputs": [],
   "source": [
    "# define marginal log posterior function of tau\n",
    "def log_posterior_tau_helper(tau, means, serrs, log_prior=lambda tau: 0):\n",
    "    '''\n",
    "    computes log marginal hyperparameter density of tau\n",
    "    '''\n",
    "    ret = log_prior(tau)\n",
    "    marginal_variances = serrs ** 2 + tau ** 2\n",
    "    total_variance = 1.0/np.sum(1.0/marginal_variances)  #V_\\mu\n",
    "    \n",
    "    # precision weighted average L4 Step1\n",
    "    mu_hat = np.sum((1.0/marginal_variances) * means) / \\\n",
    "            np.sum(1.0/marginal_variances)\n",
    "        \n",
    "    ret += 0.5 * log(total_variance)\n",
    "    ret -= 0.5 * np.sum(np.log(marginal_variances))\n",
    "    ret -= 0.5 * np.sum(((means - mu_hat) ** 2)/marginal_variances)\n",
    "    return ret\n",
    "# vectorize the function for convenience\n",
    "log_posterior_tau = \\\n",
    "    np.vectorize(log_posterior_tau_helper, otypes=[np.float], excluded=[1,2,3])"
   ]
  },
  {
   "cell_type": "markdown",
   "metadata": {},
   "source": [
    "Now let us reproduce Figure 5.5, which draws marginal posterior density $p(\\tau \\mid y)$."
   ]
  },
  {
   "cell_type": "code",
   "execution_count": 6,
   "metadata": {
    "collapsed": false
   },
   "outputs": [
    {
     "data": {
      "image/png": "[encoded data removed]",
      "text/plain": [
       "<matplotlib.figure.Figure at 0x3ce8320>"
      ]
     },
     "metadata": {},
     "output_type": "display_data"
    }
   ],
   "source": [
    "import pylab as pl\n",
    "# grid points to evaluate evaluate density function\n",
    "tau_min = 0; tau_max = 30; tau_grid_num = 1000\n",
    "tau_knots = np.linspace(tau_min, tau_max, tau_grid_num)\n",
    "lop_posterior_tau_densities = \\\n",
    "    log_posterior_tau(tau_knots, school_data.means, \n",
    "                      school_data.serrs, log_prior=lambda tau: 0)\n",
    "# when calculating densities, it is numerically more stable to \n",
    "# first compute in log space, subtract the maximum, and then exponentiate\n",
    "posterior_tau_densities = \\\n",
    "        np.exp(lop_posterior_tau_densities - np.max(lop_posterior_tau_densities))\n",
    "#np.exp(log_posterior_tau_densities - log_posterior_tau_densities.max())\n",
    "pl.plot(tau_knots, posterior_tau_densities, color='k', linestyle='-', linewidth=1)\n",
    "pl.axes().set_xlabel(r'$\\tau$')\n",
    "# the y-axis of unnormalized posterior means nothing, so rather hide the scale\n",
    "pl.axes().get_yaxis().set_visible(False)"
   ]
  },
  {
   "cell_type": "markdown",
   "metadata": {},
   "source": [
    "This plot indicates that values of $\\tau$ near zero are most plausible, but large values such as 10 or 15 are still quite likely.\n",
    "\n",
    "Now, we study the change of $\\mathbb{E}[\\theta_j \\mid \\tau]$'s and $\\text{sd}[\\theta_j \\mid \\tau]$'s as a function of $\\tau$.  This can be done by marginalizing out $\\mu$ from the conditional distribution $\\theta_j \\mid \\mu,\\tau,y$."
   ]
  },
  {
   "cell_type": "code",
   "execution_count": 13,
   "metadata": {
    "collapsed": false
   },
   "outputs": [
    {
     "data": {
      "text/plain": [
       "array([ 0.9486833 ,  1.66410059,  2.12132034])"
      ]
     },
     "execution_count": 13,
     "metadata": {},
     "output_type": "execute_result"
    }
   ],
   "source": [
    "def mean_posterior_given_tau(tau, means, serrs):\n",
    "    assert(len(means) == len(serrs))\n",
    "    marginal_variances = serrs ** 2 + tau ** 2\n",
    "    total_variance = 1.0/np.sum(1.0/marginal_variances)\n",
    "    # precision weighted average\n",
    "    mu_hat = np.sum((1.0/marginal_variances) * means) / \\\n",
    "            np.sum(1.0/marginal_variances)               #mu_hat\n",
    "    if tau == 0:\n",
    "        return np.repeat(mu_hat, len(means))\n",
    "    return ((1.0/(serrs ** 2)) * means + 1.0/(tau ** 2) * mu_hat) / (1.0/(serrs ** 2) + 1.0/(tau ** 2))\n",
    "\n",
    "def sd_posterior_given_tau(tau, serrs):\n",
    "    marginal_variances = serrs ** 2 + tau ** 2\n",
    "    total_variance = 1.0/np.sum(1.0/marginal_variances)  #V_u\n",
    "    individual_variances = (((serrs ** 2)/(serrs ** 2 + tau ** 2)) ** 2) * total_variance\n",
    "    if tau == 0:\n",
    "        return np.sqrt(individual_variances)\n",
    "    return np.sqrt(individual_variances + 1.0 / (1.0/(serrs ** 2) + 1.0/(tau ** 2)))\n",
    "\n",
    "mean_posterior_given_taus = \\\n",
    "    np.vectorize(mean_posterior_given_tau, otypes=[np.ndarray], excluded=[1,2])\n",
    "tau_conditional_means = \\\n",
    "        pandas.DataFrame.from_records(mean_posterior_given_taus(tau_knots, school_data.means, school_data.serrs),\n",
    "                                      index = tau_knots, columns=school_data.index)\n",
    "    \n",
    "sd_posterior_given_taus = \\\n",
    "    np.vectorize(sd_posterior_given_tau, otypes=[np.ndarray], excluded=[1])\n",
    "tau_conditional_sds = \\\n",
    "        pandas.DataFrame.from_records(sd_posterior_given_taus(tau_knots, school_data.serrs),\n",
    "                                      index = tau_knots, columns=school_data.index)\n"
   ]
  },
  {
   "cell_type": "code",
   "execution_count": null,
   "metadata": {
    "collapsed": true
   },
   "outputs": [],
   "source": []
  },
  {
   "cell_type": "code",
   "execution_count": 8,
   "metadata": {
    "collapsed": false
   },
   "outputs": [
    {
     "data": {
      "image/png": "[encoded data removed]",
      "text/plain": [
       "<matplotlib.figure.Figure at 0xaa944a8>"
      ]
     },
     "metadata": {},
     "output_type": "display_data"
    }
   ],
   "source": [
    "# I was not able to put inline labels in Python. \n",
    "# this page contains an example code for it: http://stackoverflow.com/questions/16992038/inline-labels-in-matplotlib\n",
    "tau_conditional_means.plot(style=['-','--','-.',':','-','--','-.',':'])\n",
    "pl.legend(bbox_to_anchor=(1.05, 1), loc=2)\n",
    "pl.ylim(-5,30)\n",
    "pl.axes().set_xlabel(r'$\\tau$')\n",
    "pl.show()"
   ]
  },
  {
   "cell_type": "markdown",
   "metadata": {},
   "source": [
    "When $\\tau = 0$, all group means are treated to be the same, while as $\\tau \\rightarrow \\infty$ they converge to individual MLEs."
   ]
  },
  {
   "cell_type": "code",
   "execution_count": 8,
   "metadata": {
    "collapsed": false
   },
   "outputs": [
    {
     "data": {
      "image/png": "[encoded data removed]",
      "text/plain": [
       "<matplotlib.figure.Figure at 0x10f9d0390>"
      ]
     },
     "metadata": {},
     "output_type": "display_data"
    }
   ],
   "source": [
    "tau_conditional_sds.plot(style=['-','--','-.',':','-','--','-.',':'])\n",
    "pl.legend(bbox_to_anchor=(1.05, 1), loc=2)\n",
    "pl.ylim(0,20)\n",
    "pl.axes().set_xlabel(r'$\\tau$')\n",
    "pl.show()"
   ]
  },
  {
   "cell_type": "markdown",
   "metadata": {},
   "source": [
    "Naturally, larger $\\tau$ means higher uncertainty in estimates.  \n",
    "\n",
    "Now, let us sample parameters from the joint posterior distribution."
   ]
  },
  {
   "cell_type": "code",
   "execution_count": 9,
   "metadata": {
    "collapsed": false
   },
   "outputs": [],
   "source": [
    "# seed the RNG\n",
    "np.random.seed(13531)\n",
    "sample_num = 200\n",
    "\n",
    "\n",
    "#Step1: first sample tau's\n",
    "tau_probs = posterior_tau_densities / posterior_tau_densities.sum()\n",
    "samples_tau = np.random.choice(tau_knots, sample_num, p=tau_probs)\n",
    "\n",
    "\n",
    "#Step2: now sample mu conditioned on tau\n",
    "def sample_means_from_tau(tau, means, serrs, include_mu=False):\n",
    "    if isinf(tau):\n",
    "        if include_mu:\n",
    "            raise ValueError(\"mu is not well defined when tau is infinity\")\n",
    "        else:\n",
    "            return np.random.normal(loc=means, scale=serrs)\n",
    "\n",
    "\n",
    "    \n",
    "    # precision weighted average mu_hat\n",
    "    mu_hat = np.sum((1.0/marginal_variances) * means) / \\\n",
    "            np.sum(1.0/marginal_variances)\n",
    "    \n",
    "    #variance V_u      \n",
    "    marginal_variances = serrs ** 2 + tau ** 2\n",
    "    total_variance = 1.0/np.sum(1.0/marginal_variances)            \n",
    "            \n",
    "    #sample from Step3 in L4 slide page 30    \n",
    "    sample_mu = np.random.normal(loc=mu_hat, scale=np.sqrt(total_variance))\n",
    "    if tau == 0:\n",
    "        if include_mu:\n",
    "            return np.repeat(sample_mu, len(means) + 1)\n",
    "        else:\n",
    "            return np.repeat(sample_mu, len(means))\n",
    "    \n",
    "    #Step3: Sample \\theta_j\n",
    "    conditional_means = \\\n",
    "        ((1.0/(serrs ** 2)) * means + 1.0/(tau ** 2) * sample_mu) /\\\n",
    "        (1.0/(serrs ** 2) + 1.0/(tau ** 2))\n",
    "    conditional_scales = np.sqrt(1.0 / (1.0/(serrs ** 2) + 1.0/(tau ** 2)))\n",
    "    if include_mu == True:\n",
    "        return np.concatenate(([sample_mu],\n",
    "                               np.random.normal(loc=conditional_means,\n",
    "                                                scale=conditional_scales)))\n",
    "    else:\n",
    "        return np.random.normal(loc=conditional_means,\n",
    "                                scale=conditional_scales)\n",
    "        \n",
    "sample_means_from_taus = \\\n",
    "        np.vectorize(sample_means_from_tau, otypes=[np.ndarray], excluded=[1,2,3])\n",
    "\n",
    "samples_df = DataFrame.from_records(sample_means_from_taus(samples_tau, school_data.means, school_data.serrs),\n",
    "                                    columns=school_data.index)"
   ]
  },
  {
   "cell_type": "markdown",
   "metadata": {},
   "source": [
    "Now that we have posterior samples, we can reproduce Table 5.3. which shows quantiles of posterior samples:"
   ]
  },
  {
   "cell_type": "code",
   "execution_count": 10,
   "metadata": {
    "collapsed": false
   },
   "outputs": [
    {
     "data": {
      "text/html": [
       "<div style=\"max-height:1000px;max-width:1500px;overflow:auto;\">\n",
       "<table border=\"1\" class=\"dataframe\">\n",
       "  <thead>\n",
       "    <tr style=\"text-align: right;\">\n",
       "      <th></th>\n",
       "      <th>0.025</th>\n",
       "      <th>0.25</th>\n",
       "      <th>0.5</th>\n",
       "      <th>0.75</th>\n",
       "      <th>0.975</th>\n",
       "    </tr>\n",
       "  </thead>\n",
       "  <tbody>\n",
       "    <tr>\n",
       "      <th>A</th>\n",
       "      <td> -4</td>\n",
       "      <td> 6</td>\n",
       "      <td> 10</td>\n",
       "      <td> 15</td>\n",
       "      <td> 27</td>\n",
       "    </tr>\n",
       "    <tr>\n",
       "      <th>B</th>\n",
       "      <td> -4</td>\n",
       "      <td> 3</td>\n",
       "      <td>  7</td>\n",
       "      <td> 12</td>\n",
       "      <td> 20</td>\n",
       "    </tr>\n",
       "    <tr>\n",
       "      <th>C</th>\n",
       "      <td>-12</td>\n",
       "      <td> 2</td>\n",
       "      <td>  7</td>\n",
       "      <td> 11</td>\n",
       "      <td> 19</td>\n",
       "    </tr>\n",
       "    <tr>\n",
       "      <th>D</th>\n",
       "      <td> -6</td>\n",
       "      <td> 5</td>\n",
       "      <td>  8</td>\n",
       "      <td> 12</td>\n",
       "      <td> 19</td>\n",
       "    </tr>\n",
       "    <tr>\n",
       "      <th>E</th>\n",
       "      <td>-10</td>\n",
       "      <td> 2</td>\n",
       "      <td>  6</td>\n",
       "      <td>  9</td>\n",
       "      <td> 17</td>\n",
       "    </tr>\n",
       "    <tr>\n",
       "      <th>F</th>\n",
       "      <td>-11</td>\n",
       "      <td> 3</td>\n",
       "      <td>  7</td>\n",
       "      <td> 10</td>\n",
       "      <td> 19</td>\n",
       "    </tr>\n",
       "    <tr>\n",
       "      <th>G</th>\n",
       "      <td> -0</td>\n",
       "      <td> 7</td>\n",
       "      <td> 10</td>\n",
       "      <td> 14</td>\n",
       "      <td> 29</td>\n",
       "    </tr>\n",
       "    <tr>\n",
       "      <th>H</th>\n",
       "      <td> -9</td>\n",
       "      <td> 4</td>\n",
       "      <td>  8</td>\n",
       "      <td> 13</td>\n",
       "      <td> 26</td>\n",
       "    </tr>\n",
       "  </tbody>\n",
       "</table>\n",
       "</div>"
      ],
      "text/plain": [
       "   0.025  0.250  0.500  0.750  0.975\n",
       "A     -4      6     10     15     27\n",
       "B     -4      3      7     12     20\n",
       "C    -12      2      7     11     19\n",
       "D     -6      5      8     12     19\n",
       "E    -10      2      6      9     17\n",
       "F    -11      3      7     10     19\n",
       "G     -0      7     10     14     29\n",
       "H     -9      4      8     13     26"
      ]
     },
     "execution_count": 10,
     "metadata": {},
     "output_type": "execute_result"
    }
   ],
   "source": [
    "samples_df.quantile([0.025,0.25,0.5,0.75,0.975]).transpose().apply(np.round)"
   ]
  },
  {
   "cell_type": "markdown",
   "metadata": {},
   "source": [
    "Lower and upper quantiles deviate a bit from the book, but this is probably due to small sample size (200).\n",
    "\n",
    "Figure 5.8 (a) reproduced below shows posterior samples for the effect in school A."
   ]
  },
  {
   "cell_type": "code",
   "execution_count": 11,
   "metadata": {
    "collapsed": false
   },
   "outputs": [
    {
     "data": {
      "text/plain": [
       "(-20, 60)"
      ]
     },
     "execution_count": 11,
     "metadata": {},
     "output_type": "execute_result"
    },
    {
     "data": {
      "image/png": "[encoded data removed]",
      "text/plain": [
       "<matplotlib.figure.Figure at 0x10fa4da50>"
      ]
     },
     "metadata": {},
     "output_type": "display_data"
    }
   ],
   "source": [
    "samples_df['A'].hist(bins=20)\n",
    "pl.axes().set_xlabel(r'Effect in School A')\n",
    "pl.xlim(-20,60)"
   ]
  },
  {
   "cell_type": "markdown",
   "metadata": {},
   "source": [
    "Figure 5.8 (b) reproduced below shows posterior samples of the largest effect."
   ]
  },
  {
   "cell_type": "code",
   "execution_count": 12,
   "metadata": {
    "collapsed": false
   },
   "outputs": [
    {
     "data": {
      "text/plain": [
       "(-20, 60)"
      ]
     },
     "execution_count": 12,
     "metadata": {},
     "output_type": "execute_result"
    },
    {
     "data": {
      "image/png": "[encoded data removed]",
      "text/plain": [
       "<matplotlib.figure.Figure at 0x10fd67f90>"
      ]
     },
     "metadata": {},
     "output_type": "display_data"
    }
   ],
   "source": [
    "pl.hist(samples_df.max(axis=1), bins=20)\n",
    "pl.axes().set_xlabel(r'Largest Effect')\n",
    "pl.xlim(-20,60)"
   ]
  },
  {
   "cell_type": "markdown",
   "metadata": {},
   "source": [
    "$\\text{Pr}(\\max\\{ \\theta_j \\} > 28.4 \\mid y)$ can be calculated as:"
   ]
  },
  {
   "cell_type": "code",
   "execution_count": 13,
   "metadata": {
    "collapsed": false
   },
   "outputs": [
    {
     "data": {
      "text/plain": [
       "0.055"
      ]
     },
     "execution_count": 13,
     "metadata": {},
     "output_type": "execute_result"
    }
   ],
   "source": [
    "np.mean(samples_df.max(axis=1) > 28.4)"
   ]
  },
  {
   "cell_type": "markdown",
   "metadata": {},
   "source": [
    "Since the probability is small, the accuracy with only 200 samples is quite poor.\n",
    "\n",
    "We can also compute $\\text{Pr}(\\theta_1 > \\theta_3 \\mid y)$:"
   ]
  },
  {
   "cell_type": "code",
   "execution_count": 14,
   "metadata": {
    "collapsed": false
   },
   "outputs": [
    {
     "data": {
      "text/plain": [
       "0.61499999999999999"
      ]
     },
     "execution_count": 14,
     "metadata": {},
     "output_type": "execute_result"
    }
   ],
   "source": [
    "np.mean(samples_df['A'] > samples_df['C'])"
   ]
  },
  {
   "cell_type": "markdown",
   "metadata": {},
   "source": [
    "## Model Checking (BDA 6.5) ##\n",
    "\n",
    "To check the model fit, we sample predictive data from posterior distribution and then measure its test statistics."
   ]
  },
  {
   "cell_type": "code",
   "execution_count": 15,
   "metadata": {
    "collapsed": false
   },
   "outputs": [
    {
     "data": {
      "text/html": [
       "<div style=\"max-height:1000px;max-width:1500px;overflow:auto;\">\n",
       "<table border=\"1\" class=\"dataframe\">\n",
       "  <thead>\n",
       "    <tr style=\"text-align: right;\">\n",
       "      <th></th>\n",
       "      <th>A</th>\n",
       "      <th>B</th>\n",
       "      <th>C</th>\n",
       "      <th>D</th>\n",
       "      <th>E</th>\n",
       "      <th>F</th>\n",
       "      <th>G</th>\n",
       "      <th>H</th>\n",
       "    </tr>\n",
       "  </thead>\n",
       "  <tbody>\n",
       "    <tr>\n",
       "      <th>0 </th>\n",
       "      <td>  7.716427</td>\n",
       "      <td>  9.991674</td>\n",
       "      <td>  0.866800</td>\n",
       "      <td> 14.593627</td>\n",
       "      <td> -3.965988</td>\n",
       "      <td> 20.090856</td>\n",
       "      <td> 12.917670</td>\n",
       "      <td>  1.829894</td>\n",
       "    </tr>\n",
       "    <tr>\n",
       "      <th>1 </th>\n",
       "      <td>  0.502421</td>\n",
       "      <td>  0.895309</td>\n",
       "      <td>  6.927228</td>\n",
       "      <td>  7.559977</td>\n",
       "      <td>  6.383656</td>\n",
       "      <td>  5.732490</td>\n",
       "      <td>  1.512876</td>\n",
       "      <td> 11.911749</td>\n",
       "    </tr>\n",
       "    <tr>\n",
       "      <th>2 </th>\n",
       "      <td>  8.107001</td>\n",
       "      <td>  8.818356</td>\n",
       "      <td>  9.584960</td>\n",
       "      <td> 11.167918</td>\n",
       "      <td>  9.818180</td>\n",
       "      <td>  9.268566</td>\n",
       "      <td> 13.150036</td>\n",
       "      <td> 11.544678</td>\n",
       "    </tr>\n",
       "    <tr>\n",
       "      <th>3 </th>\n",
       "      <td>  9.534934</td>\n",
       "      <td>  0.192279</td>\n",
       "      <td>  4.933994</td>\n",
       "      <td>  0.482355</td>\n",
       "      <td> -5.051685</td>\n",
       "      <td> 10.671843</td>\n",
       "      <td> 22.620177</td>\n",
       "      <td>  2.510405</td>\n",
       "    </tr>\n",
       "    <tr>\n",
       "      <th>4 </th>\n",
       "      <td> 18.022723</td>\n",
       "      <td>  6.934803</td>\n",
       "      <td>  8.512424</td>\n",
       "      <td> 10.223763</td>\n",
       "      <td> -0.429200</td>\n",
       "      <td> -6.964528</td>\n",
       "      <td>  9.610435</td>\n",
       "      <td>  6.192576</td>\n",
       "    </tr>\n",
       "    <tr>\n",
       "      <th>5 </th>\n",
       "      <td>  6.633026</td>\n",
       "      <td>  8.278496</td>\n",
       "      <td>  4.938248</td>\n",
       "      <td>  9.555146</td>\n",
       "      <td>  3.424603</td>\n",
       "      <td>  5.327314</td>\n",
       "      <td>  6.755715</td>\n",
       "      <td>  6.239499</td>\n",
       "    </tr>\n",
       "    <tr>\n",
       "      <th>6 </th>\n",
       "      <td> 17.482265</td>\n",
       "      <td> 13.638312</td>\n",
       "      <td>  9.628664</td>\n",
       "      <td> 17.087535</td>\n",
       "      <td> -3.717156</td>\n",
       "      <td>  8.630172</td>\n",
       "      <td> 19.108511</td>\n",
       "      <td> -1.979328</td>\n",
       "    </tr>\n",
       "    <tr>\n",
       "      <th>7 </th>\n",
       "      <td> 24.679603</td>\n",
       "      <td>  3.786353</td>\n",
       "      <td>-13.655367</td>\n",
       "      <td>  1.635514</td>\n",
       "      <td>-16.328680</td>\n",
       "      <td>-11.222549</td>\n",
       "      <td> 17.283001</td>\n",
       "      <td> -7.251771</td>\n",
       "    </tr>\n",
       "    <tr>\n",
       "      <th>8 </th>\n",
       "      <td>  5.607194</td>\n",
       "      <td>  7.493853</td>\n",
       "      <td>  6.257384</td>\n",
       "      <td>  7.402898</td>\n",
       "      <td>  4.467476</td>\n",
       "      <td>  6.417064</td>\n",
       "      <td>  6.110007</td>\n",
       "      <td>  7.335749</td>\n",
       "    </tr>\n",
       "    <tr>\n",
       "      <th>9 </th>\n",
       "      <td>  1.510968</td>\n",
       "      <td>  4.395459</td>\n",
       "      <td>  0.566861</td>\n",
       "      <td>  9.807944</td>\n",
       "      <td> 20.997995</td>\n",
       "      <td> -1.304262</td>\n",
       "      <td>  5.611880</td>\n",
       "      <td> 13.863666</td>\n",
       "    </tr>\n",
       "    <tr>\n",
       "      <th>10</th>\n",
       "      <td> 12.992872</td>\n",
       "      <td> 12.435256</td>\n",
       "      <td> 13.049840</td>\n",
       "      <td> 12.809142</td>\n",
       "      <td> 12.259121</td>\n",
       "      <td> 13.060207</td>\n",
       "      <td> 13.397225</td>\n",
       "      <td> 12.888974</td>\n",
       "    </tr>\n",
       "    <tr>\n",
       "      <th>11</th>\n",
       "      <td>  3.284644</td>\n",
       "      <td> 14.320452</td>\n",
       "      <td>  5.336783</td>\n",
       "      <td>  6.618106</td>\n",
       "      <td> -0.524970</td>\n",
       "      <td> -3.601224</td>\n",
       "      <td>  7.833326</td>\n",
       "      <td> -3.732031</td>\n",
       "    </tr>\n",
       "    <tr>\n",
       "      <th>12</th>\n",
       "      <td>  7.377929</td>\n",
       "      <td>  6.828941</td>\n",
       "      <td>  7.854961</td>\n",
       "      <td>  9.082657</td>\n",
       "      <td>  7.013176</td>\n",
       "      <td>  7.083400</td>\n",
       "      <td> 10.005125</td>\n",
       "      <td>  8.248841</td>\n",
       "    </tr>\n",
       "    <tr>\n",
       "      <th>13</th>\n",
       "      <td>  7.581249</td>\n",
       "      <td>  7.036055</td>\n",
       "      <td>  7.733224</td>\n",
       "      <td>  7.954896</td>\n",
       "      <td>  7.830516</td>\n",
       "      <td>  7.242541</td>\n",
       "      <td>  8.061920</td>\n",
       "      <td>  7.625156</td>\n",
       "    </tr>\n",
       "    <tr>\n",
       "      <th>14</th>\n",
       "      <td> 13.330399</td>\n",
       "      <td> 15.175647</td>\n",
       "      <td> 17.757907</td>\n",
       "      <td> 16.201320</td>\n",
       "      <td> 19.855363</td>\n",
       "      <td> 19.631324</td>\n",
       "      <td> 20.120813</td>\n",
       "      <td> 19.342776</td>\n",
       "    </tr>\n",
       "    <tr>\n",
       "      <th>15</th>\n",
       "      <td>  0.630096</td>\n",
       "      <td>  7.182227</td>\n",
       "      <td>  3.427380</td>\n",
       "      <td> -0.388352</td>\n",
       "      <td>  8.674099</td>\n",
       "      <td>  3.847556</td>\n",
       "      <td>  8.419566</td>\n",
       "      <td> 19.522541</td>\n",
       "    </tr>\n",
       "    <tr>\n",
       "      <th>16</th>\n",
       "      <td> 19.841116</td>\n",
       "      <td>  9.744172</td>\n",
       "      <td> 16.355059</td>\n",
       "      <td> 10.245631</td>\n",
       "      <td>  8.982854</td>\n",
       "      <td> 10.994532</td>\n",
       "      <td> 18.775112</td>\n",
       "      <td> 16.951828</td>\n",
       "    </tr>\n",
       "    <tr>\n",
       "      <th>17</th>\n",
       "      <td>  5.840998</td>\n",
       "      <td>  4.386583</td>\n",
       "      <td>  7.317891</td>\n",
       "      <td>  6.027662</td>\n",
       "      <td>  4.462467</td>\n",
       "      <td>  2.977552</td>\n",
       "      <td>  4.499661</td>\n",
       "      <td>  5.723083</td>\n",
       "    </tr>\n",
       "    <tr>\n",
       "      <th>18</th>\n",
       "      <td>  6.137699</td>\n",
       "      <td>  7.815479</td>\n",
       "      <td>  6.554743</td>\n",
       "      <td>  7.187624</td>\n",
       "      <td>  8.016367</td>\n",
       "      <td>  7.061611</td>\n",
       "      <td>  5.763623</td>\n",
       "      <td>  5.859263</td>\n",
       "    </tr>\n",
       "    <tr>\n",
       "      <th>19</th>\n",
       "      <td>  8.870123</td>\n",
       "      <td> 10.109709</td>\n",
       "      <td> 12.002920</td>\n",
       "      <td>  8.231484</td>\n",
       "      <td>  6.697967</td>\n",
       "      <td> 11.152029</td>\n",
       "      <td>  7.715419</td>\n",
       "      <td>  8.036580</td>\n",
       "    </tr>\n",
       "  </tbody>\n",
       "</table>\n",
       "</div>"
      ],
      "text/plain": [
       "            A          B          C          D          E          F  \\\n",
       "0    7.716427   9.991674   0.866800  14.593627  -3.965988  20.090856   \n",
       "1    0.502421   0.895309   6.927228   7.559977   6.383656   5.732490   \n",
       "2    8.107001   8.818356   9.584960  11.167918   9.818180   9.268566   \n",
       "3    9.534934   0.192279   4.933994   0.482355  -5.051685  10.671843   \n",
       "4   18.022723   6.934803   8.512424  10.223763  -0.429200  -6.964528   \n",
       "5    6.633026   8.278496   4.938248   9.555146   3.424603   5.327314   \n",
       "6   17.482265  13.638312   9.628664  17.087535  -3.717156   8.630172   \n",
       "7   24.679603   3.786353 -13.655367   1.635514 -16.328680 -11.222549   \n",
       "8    5.607194   7.493853   6.257384   7.402898   4.467476   6.417064   \n",
       "9    1.510968   4.395459   0.566861   9.807944  20.997995  -1.304262   \n",
       "10  12.992872  12.435256  13.049840  12.809142  12.259121  13.060207   \n",
       "11   3.284644  14.320452   5.336783   6.618106  -0.524970  -3.601224   \n",
       "12   7.377929   6.828941   7.854961   9.082657   7.013176   7.083400   \n",
       "13   7.581249   7.036055   7.733224   7.954896   7.830516   7.242541   \n",
       "14  13.330399  15.175647  17.757907  16.201320  19.855363  19.631324   \n",
       "15   0.630096   7.182227   3.427380  -0.388352   8.674099   3.847556   \n",
       "16  19.841116   9.744172  16.355059  10.245631   8.982854  10.994532   \n",
       "17   5.840998   4.386583   7.317891   6.027662   4.462467   2.977552   \n",
       "18   6.137699   7.815479   6.554743   7.187624   8.016367   7.061611   \n",
       "19   8.870123  10.109709  12.002920   8.231484   6.697967  11.152029   \n",
       "\n",
       "            G          H  \n",
       "0   12.917670   1.829894  \n",
       "1    1.512876  11.911749  \n",
       "2   13.150036  11.544678  \n",
       "3   22.620177   2.510405  \n",
       "4    9.610435   6.192576  \n",
       "5    6.755715   6.239499  \n",
       "6   19.108511  -1.979328  \n",
       "7   17.283001  -7.251771  \n",
       "8    6.110007   7.335749  \n",
       "9    5.611880  13.863666  \n",
       "10  13.397225  12.888974  \n",
       "11   7.833326  -3.732031  \n",
       "12  10.005125   8.248841  \n",
       "13   8.061920   7.625156  \n",
       "14  20.120813  19.342776  \n",
       "15   8.419566  19.522541  \n",
       "16  18.775112  16.951828  \n",
       "17   4.499661   5.723083  \n",
       "18   5.763623   5.859263  \n",
       "19   7.715419   8.036580  "
      ]
     },
     "execution_count": 15,
     "metadata": {},
     "output_type": "execute_result"
    }
   ],
   "source": [
    "samples_df.head(20)"
   ]
  },
  {
   "cell_type": "code",
   "execution_count": 16,
   "metadata": {
    "collapsed": false
   },
   "outputs": [],
   "source": [
    "posterior_data_list = []\n",
    "for row_index, row in samples_df.iterrows():\n",
    "    posterior_data_list.append( np.random.normal(loc=row, scale=school_data.serrs) )\n",
    "posterior_data_df = DataFrame.from_records(posterior_data_list,\n",
    "                                           columns=school_data.index)"
   ]
  },
  {
   "cell_type": "code",
   "execution_count": 17,
   "metadata": {
    "collapsed": false
   },
   "outputs": [
    {
     "name": "stdout",
     "output_type": "stream",
     "text": [
      "p-value: 0.56\n"
     ]
    },
    {
     "data": {
      "image/png": "[encoded data removed]",
      "text/plain": [
       "<matplotlib.figure.Figure at 0x10fdc53d0>"
      ]
     },
     "metadata": {},
     "output_type": "display_data"
    }
   ],
   "source": [
    "pl.hist(posterior_data_df.max(axis=1), bins=20)\n",
    "pl.axes().set_xlabel(r'T(y) = max(y)')\n",
    "pl.axvline(school_data.means.max(), color='r', linestyle='dashed', linewidth=2)\n",
    "print \"p-value: %.2f\" % (np.sum(posterior_data_df.max(axis=1) > school_data.means.max())/float(len(posterior_data_df)))"
   ]
  },
  {
   "cell_type": "code",
   "execution_count": 18,
   "metadata": {
    "collapsed": false
   },
   "outputs": [
    {
     "name": "stdout",
     "output_type": "stream",
     "text": [
      "p-value: 0.23\n"
     ]
    },
    {
     "data": {
      "image/png": "[encoded data removed]",
      "text/plain": [
       "<matplotlib.figure.Figure at 0x10f984390>"
      ]
     },
     "metadata": {},
     "output_type": "display_data"
    }
   ],
   "source": [
    "pl.hist(posterior_data_df.min(axis=1), bins=20)\n",
    "pl.axes().set_xlabel(r'T(y) = min(y)')\n",
    "pl.axvline(school_data.means.min(), color='r', linestyle='dashed', linewidth=2)\n",
    "print \"p-value: %.2f\" % (np.sum(posterior_data_df.min(axis=1) > school_data.means.min())/float(len(posterior_data_df)))"
   ]
  },
  {
   "cell_type": "code",
   "execution_count": 19,
   "metadata": {
    "collapsed": false
   },
   "outputs": [
    {
     "name": "stdout",
     "output_type": "stream",
     "text": [
      "p-value: 0.51\n"
     ]
    },
    {
     "data": {
      "image/png": "[encoded data removed]",
      "text/plain": [
       "<matplotlib.figure.Figure at 0x10f90ad10>"
      ]
     },
     "metadata": {},
     "output_type": "display_data"
    }
   ],
   "source": [
    "pl.hist(posterior_data_df.mean(axis=1), bins=20)\n",
    "pl.axes().set_xlabel(r'T(y) = mean(y)')\n",
    "pl.axvline(school_data.means.mean(), color='r', linestyle='dashed', linewidth=2)\n",
    "print \"p-value: %.2f\" % (np.sum(posterior_data_df.mean(axis=1) > school_data.means.mean())/float(len(posterior_data_df)))"
   ]
  },
  {
   "cell_type": "code",
   "execution_count": 20,
   "metadata": {
    "collapsed": false
   },
   "outputs": [
    {
     "name": "stdout",
     "output_type": "stream",
     "text": [
      "p-value: 0.80\n"
     ]
    },
    {
     "data": {
      "image/png": "[encoded data removed]",
      "text/plain": [
       "<matplotlib.figure.Figure at 0x10fd67110>"
      ]
     },
     "metadata": {},
     "output_type": "display_data"
    }
   ],
   "source": [
    "pl.hist(posterior_data_df.std(axis=1), bins=20)\n",
    "pl.axes().set_xlabel(r'T(y) = sd(y)')\n",
    "pl.axvline(school_data.means.std(), color='r', linestyle='dashed', linewidth=2)\n",
    "print \"p-value: %.2f\" % (np.sum(posterior_data_df.std(axis=1) > school_data.means.std())/float(len(posterior_data_df)))"
   ]
  },
  {
   "cell_type": "markdown",
   "metadata": {},
   "source": [
    "Surprisingly, these p-values are too close to what we have in the book, considering the small data size!"
   ]
  },
  {
   "cell_type": "markdown",
   "metadata": {},
   "source": [
    "## Model Comparison based on predictive performance (BDA 7.3) ##\n",
    "\n",
    "(Sorry for extreme low quality code with a lot of redundancies here; I quickly began tosmell something bad, but was too lazy to go back.)"
   ]
  },
  {
   "cell_type": "code",
   "execution_count": 21,
   "metadata": {
    "collapsed": false
   },
   "outputs": [
    {
     "name": "stdout",
     "output_type": "stream",
     "text": [
      "AIC for complete pooling: 61.3\n",
      "AIC for no pooling: 70.6\n"
     ]
    }
   ],
   "source": [
    "from scipy.stats import *\n",
    "# computing AIC\n",
    "# first, compute MLE estimate\n",
    "marginal_variances = school_data.serrs ** 2\n",
    "total_variance = 1.0/np.sum(1.0/marginal_variances)\n",
    "# precision weighted average\n",
    "mle_complete_pooling = np.sum((1.0/marginal_variances) * school_data.means) / np.sum(1.0/marginal_variances)\n",
    "mle_lpd_complete_pooling = norm.logpdf(school_data.means, loc=mle_complete_pooling, scale=school_data.serrs).sum()\n",
    "mle_lpd_no_pooling = norm.logpdf(school_data.means, loc=school_data.means, scale=school_data.serrs).sum()\n",
    "print \"AIC for complete pooling: %.1f\" % (-2 * mle_lpd_complete_pooling + 1 * 2)\n",
    "print \"AIC for no pooling: %.1f\" % (-2 * mle_lpd_no_pooling + 8 * 2)"
   ]
  },
  {
   "cell_type": "code",
   "execution_count": 22,
   "metadata": {
    "collapsed": false
   },
   "outputs": [
    {
     "name": "stdout",
     "output_type": "stream",
     "text": [
      "-2lpd with no pooling: 54.6\n",
      "-2lpd with complete pooling: 59.3\n",
      "-2lpd with hierarchical pooling: 57.5\n",
      "p_DIC for no pooling: 8.0\n",
      "p_DIC for complete pooling: 1.0\n",
      "p_DIC for hierarchical pooling: 2.8\n",
      "DIC for no pooling: 70.7\n",
      "DIC for complete pooling: 61.3\n",
      "DIC for hierarchical pooling: 63.0\n"
     ]
    }
   ],
   "source": [
    "# computing DIC\n",
    "# here we increase sample number to improve the precision\n",
    "sample_num = 2000\n",
    "# sample \n",
    "complete_pooling_samples_df = DataFrame.from_records(sample_means_from_taus(np.repeat(0,sample_num), school_data.means, school_data.serrs),\n",
    "                                                     columns=school_data.index)\n",
    "no_pooling_samples_df = DataFrame.from_records(sample_means_from_taus(np.repeat(float('inf'),sample_num), school_data.means, school_data.serrs),\n",
    "                                               columns=school_data.index)\n",
    "\n",
    "samples_tau = np.random.choice(tau_knots, sample_num, p=tau_probs)\n",
    "hierarchical_samples_df = DataFrame.from_records(sample_means_from_taus(samples_tau, school_data.means, school_data.serrs),\n",
    "                                                 columns=school_data.index)\n",
    "# first, compute expected mean from posterior distribution\n",
    "pmean_no_pooling = no_pooling_samples_df.mean()\n",
    "pmean_complete_pooling = complete_pooling_samples_df.mean()\n",
    "pmean_hierarchical = hierarchical_samples_df.mean()\n",
    "\n",
    "pmean_lpd_no_pooling = norm.logpdf(school_data.means, loc=pmean_no_pooling, scale=school_data.serrs).sum()\n",
    "pmean_lpd_complete_pooling = norm.logpdf(school_data.means, loc=pmean_complete_pooling, scale=school_data.serrs).sum()\n",
    "pmean_lpd_hierarchical = norm.logpdf(school_data.means, loc=pmean_hierarchical, scale=school_data.serrs).sum()\n",
    "\n",
    "print \"-2lpd with no pooling: %.1f\" % (-2 * pmean_lpd_no_pooling)\n",
    "print \"-2lpd with complete pooling: %.1f\" % (-2 * pmean_lpd_complete_pooling)\n",
    "print \"-2lpd with hierarchical pooling: %.1f\" % (-2 * pmean_lpd_hierarchical)\n",
    "\n",
    "pdic_no_pooling = 2 * (pmean_lpd_no_pooling - \\\n",
    "    no_pooling_samples_df.apply(lambda x: norm.logpdf(school_data.means, loc=x, \n",
    "                                                      scale=school_data.serrs),\n",
    "                                axis=1).sum(axis=1).mean())\n",
    "pdic_complete_pooling = 2 * (pmean_lpd_complete_pooling - \\\n",
    "    complete_pooling_samples_df.apply(lambda x: norm.logpdf(school_data.means, loc=x, \n",
    "                                                            scale=school_data.serrs), \n",
    "                                      axis=1).sum(axis=1).mean())\n",
    "pdic_hierarchical = 2 * (pmean_lpd_hierarchical - \\\n",
    "    hierarchical_samples_df.apply(lambda x: norm.logpdf(school_data.means, loc=x, \n",
    "                                                        scale=school_data.serrs), axis=1).sum(axis=1).mean())\n",
    "print \"p_DIC for no pooling: %.1f\" % (pdic_no_pooling)\n",
    "print \"p_DIC for complete pooling: %.1f\" % (pdic_complete_pooling)\n",
    "print \"p_DIC for hierarchical pooling: %.1f\" % (pdic_hierarchical)\n",
    "\n",
    "print \"DIC for no pooling: %.1f\" % (-2 * pmean_lpd_no_pooling + 2 * pdic_no_pooling)\n",
    "print \"DIC for complete pooling: %.1f\" % (-2 * pmean_lpd_complete_pooling + 2 * pdic_complete_pooling)\n",
    "print \"DIC for hierarchical pooling: %.1f\" % (-2 * pmean_lpd_hierarchical + 2 * pdic_hierarchical)"
   ]
  },
  {
   "cell_type": "code",
   "execution_count": 23,
   "metadata": {
    "collapsed": false
   },
   "outputs": [
    {
     "name": "stdout",
     "output_type": "stream",
     "text": [
      "-2lppd with no pooling: 60.2\n",
      "-2lppd with complete pooling: 59.8\n",
      "-2lppd with hierarchical pooling: 59.2\n",
      "p_WAIC1 with no pooling: 2.5\n",
      "p_WAIC1 with complete pooling: 0.6\n",
      "p_WAIC1 with hierarchical pooling: 1.0\n",
      "p_WAIC2 with no pooling: 4.0\n",
      "p_WAIC2 with complete pooling: 0.6\n",
      "p_WAIC2 with hierarchical pooling: 1.3\n",
      "WAIC with no pooling: 68.2\n",
      "WAIC with complete pooling: 61.0\n",
      "WAIC with hierarchical pooling: 61.9\n"
     ]
    }
   ],
   "source": [
    "# WAIC computation\n",
    "# here I am not being careful in numerical precision; in principle I should've done these calculation in log space.\n",
    "lppd_no_pooling = np.log(no_pooling_samples_df.apply(lambda x: norm.pdf(school_data.means, loc=x, \n",
    "                                                     scale=school_data.serrs), axis=1).mean(axis=0)).sum()\n",
    "lppd_complete_pooling = np.log(complete_pooling_samples_df.apply(lambda x: norm.pdf(school_data.means, loc=x, \n",
    "                                                                 scale=school_data.serrs), axis=1).mean(axis=0)).sum()\n",
    "lppd_hierarchical = np.log(hierarchical_samples_df.apply(lambda x: norm.pdf(school_data.means, loc=x, \n",
    "                                                                            scale=school_data.serrs), axis=1).mean(axis=0)).sum()\n",
    "print \"-2lppd with no pooling: %.1f\" % (-2 * lppd_no_pooling)\n",
    "print \"-2lppd with complete pooling: %.1f\" % (-2 * lppd_complete_pooling)\n",
    "print \"-2lppd with hierarchical pooling: %.1f\" % (-2 * lppd_hierarchical)\n",
    "\n",
    "pwaic_1_no_pooling = 2 * (lppd_no_pooling - \n",
    "                          no_pooling_samples_df.apply(lambda x: norm.logpdf(school_data.means, loc=x, \n",
    "                                                      scale=school_data.serrs), axis=1).mean(axis=0).sum())\n",
    "pwaic_1_complete_pooling = 2 * (lppd_complete_pooling - \n",
    "                                complete_pooling_samples_df.apply(lambda x: norm.logpdf(school_data.means, loc=x, \n",
    "                                                                  scale=school_data.serrs), axis=1).mean(axis=0).sum())\n",
    "pwaic_1_hierarchical = 2 * (lppd_hierarchical - \n",
    "                            hierarchical_samples_df.apply(lambda x: norm.logpdf(school_data.means, loc=x, \n",
    "                                                          scale=school_data.serrs), axis=1).mean(axis=0).sum())\n",
    "\n",
    "print \"p_WAIC1 with no pooling: %.1f\" % (pwaic_1_no_pooling)\n",
    "print \"p_WAIC1 with complete pooling: %.1f\" % (pwaic_1_complete_pooling)\n",
    "print \"p_WAIC1 with hierarchical pooling: %.1f\" % (pwaic_1_hierarchical)\n",
    "\n",
    "pwaic_2_no_pooling = no_pooling_samples_df.apply(lambda x: norm.logpdf(school_data.means, loc=x, \n",
    "                                                 scale=school_data.serrs), axis=1).var(axis=0).sum()\n",
    "pwaic_2_complete_pooling = complete_pooling_samples_df.apply(lambda x: norm.logpdf(school_data.means, loc=x, \n",
    "                                                 scale=school_data.serrs), axis=1).var(axis=0).sum()\n",
    "pwaic_2_hierarchical = hierarchical_samples_df.apply(lambda x: norm.logpdf(school_data.means, loc=x, \n",
    "                                                 scale=school_data.serrs), axis=1).var(axis=0).sum()\n",
    "\n",
    "print \"p_WAIC2 with no pooling: %.1f\" % (pwaic_2_no_pooling)\n",
    "print \"p_WAIC2 with complete pooling: %.1f\" % (pwaic_2_complete_pooling)\n",
    "print \"p_WAIC2 with hierarchical pooling: %.1f\" % (pwaic_2_hierarchical)\n",
    "\n",
    "print \"WAIC with no pooling: %.1f\" % (-2 * (lppd_no_pooling - pwaic_2_no_pooling))\n",
    "print \"WAIC with complete pooling: %.1f\" % (-2 * (lppd_complete_pooling - pwaic_2_complete_pooling))\n",
    "print \"WAIC with hierarchical pooling: %.1f\" % (-2 * (lppd_hierarchical - pwaic_2_hierarchical))"
   ]
  },
  {
   "cell_type": "markdown",
   "metadata": {},
   "source": [
    "LOOC is omitted since I am too lazy."
   ]
  },
  {
   "cell_type": "markdown",
   "metadata": {},
   "source": [
    "## Clinical Trials of Beta-blockers (BDA 5.6) ##\n",
    "\n",
    "Here, we perform a meta-analysis which estimates the effect of beta-blockers from 22 clinical trials.  Since a lot of plots are omitted in this chapter of the book, this notebook might be interesting for someone who wanted to take a deeper look on this analysis. \n",
    "\n",
    "The data can be retrieved from the BDA book website:"
   ]
  },
  {
   "cell_type": "code",
   "execution_count": 24,
   "metadata": {
    "collapsed": false
   },
   "outputs": [],
   "source": [
    "blocker_data = read_csv(\"http://www.stat.columbia.edu/~gelman/book/data/meta.asc\",\n",
    "                        index_col='study', skiprows=3, delim_whitespace=True)"
   ]
  },
  {
   "cell_type": "code",
   "execution_count": 25,
   "metadata": {
    "collapsed": false
   },
   "outputs": [
    {
     "data": {
      "text/html": [
       "<div style=\"max-height:1000px;max-width:1500px;overflow:auto;\">\n",
       "<table border=\"1\" class=\"dataframe\">\n",
       "  <thead>\n",
       "    <tr style=\"text-align: right;\">\n",
       "      <th></th>\n",
       "      <th>control.deaths</th>\n",
       "      <th>control.total</th>\n",
       "      <th>treated.deaths</th>\n",
       "      <th>treated.total</th>\n",
       "    </tr>\n",
       "    <tr>\n",
       "      <th>study</th>\n",
       "      <th></th>\n",
       "      <th></th>\n",
       "      <th></th>\n",
       "      <th></th>\n",
       "    </tr>\n",
       "  </thead>\n",
       "  <tbody>\n",
       "    <tr>\n",
       "      <th>1 </th>\n",
       "      <td>   3</td>\n",
       "      <td>   39</td>\n",
       "      <td>   3</td>\n",
       "      <td>   38</td>\n",
       "    </tr>\n",
       "    <tr>\n",
       "      <th>2 </th>\n",
       "      <td>  14</td>\n",
       "      <td>  116</td>\n",
       "      <td>   7</td>\n",
       "      <td>  114</td>\n",
       "    </tr>\n",
       "    <tr>\n",
       "      <th>3 </th>\n",
       "      <td>  11</td>\n",
       "      <td>   93</td>\n",
       "      <td>   5</td>\n",
       "      <td>   69</td>\n",
       "    </tr>\n",
       "    <tr>\n",
       "      <th>4 </th>\n",
       "      <td> 127</td>\n",
       "      <td> 1520</td>\n",
       "      <td> 102</td>\n",
       "      <td> 1533</td>\n",
       "    </tr>\n",
       "    <tr>\n",
       "      <th>5 </th>\n",
       "      <td>  27</td>\n",
       "      <td>  365</td>\n",
       "      <td>  28</td>\n",
       "      <td>  355</td>\n",
       "    </tr>\n",
       "    <tr>\n",
       "      <th>6 </th>\n",
       "      <td>   6</td>\n",
       "      <td>   52</td>\n",
       "      <td>   4</td>\n",
       "      <td>   59</td>\n",
       "    </tr>\n",
       "    <tr>\n",
       "      <th>7 </th>\n",
       "      <td> 152</td>\n",
       "      <td>  939</td>\n",
       "      <td>  98</td>\n",
       "      <td>  945</td>\n",
       "    </tr>\n",
       "    <tr>\n",
       "      <th>8 </th>\n",
       "      <td>  48</td>\n",
       "      <td>  471</td>\n",
       "      <td>  60</td>\n",
       "      <td>  632</td>\n",
       "    </tr>\n",
       "    <tr>\n",
       "      <th>9 </th>\n",
       "      <td>  37</td>\n",
       "      <td>  282</td>\n",
       "      <td>  25</td>\n",
       "      <td>  278</td>\n",
       "    </tr>\n",
       "    <tr>\n",
       "      <th>10</th>\n",
       "      <td> 188</td>\n",
       "      <td> 1921</td>\n",
       "      <td> 138</td>\n",
       "      <td> 1916</td>\n",
       "    </tr>\n",
       "    <tr>\n",
       "      <th>11</th>\n",
       "      <td>  52</td>\n",
       "      <td>  583</td>\n",
       "      <td>  64</td>\n",
       "      <td>  873</td>\n",
       "    </tr>\n",
       "    <tr>\n",
       "      <th>12</th>\n",
       "      <td>  47</td>\n",
       "      <td>  266</td>\n",
       "      <td>  45</td>\n",
       "      <td>  263</td>\n",
       "    </tr>\n",
       "    <tr>\n",
       "      <th>13</th>\n",
       "      <td>  16</td>\n",
       "      <td>  293</td>\n",
       "      <td>   9</td>\n",
       "      <td>  291</td>\n",
       "    </tr>\n",
       "    <tr>\n",
       "      <th>14</th>\n",
       "      <td>  45</td>\n",
       "      <td>  883</td>\n",
       "      <td>  57</td>\n",
       "      <td>  858</td>\n",
       "    </tr>\n",
       "    <tr>\n",
       "      <th>15</th>\n",
       "      <td>  31</td>\n",
       "      <td>  147</td>\n",
       "      <td>  25</td>\n",
       "      <td>  154</td>\n",
       "    </tr>\n",
       "    <tr>\n",
       "      <th>16</th>\n",
       "      <td>  38</td>\n",
       "      <td>  213</td>\n",
       "      <td>  33</td>\n",
       "      <td>  207</td>\n",
       "    </tr>\n",
       "    <tr>\n",
       "      <th>17</th>\n",
       "      <td>  12</td>\n",
       "      <td>  122</td>\n",
       "      <td>  28</td>\n",
       "      <td>  251</td>\n",
       "    </tr>\n",
       "    <tr>\n",
       "      <th>18</th>\n",
       "      <td>   6</td>\n",
       "      <td>  154</td>\n",
       "      <td>   8</td>\n",
       "      <td>  151</td>\n",
       "    </tr>\n",
       "    <tr>\n",
       "      <th>19</th>\n",
       "      <td>   3</td>\n",
       "      <td>  134</td>\n",
       "      <td>   6</td>\n",
       "      <td>  174</td>\n",
       "    </tr>\n",
       "    <tr>\n",
       "      <th>20</th>\n",
       "      <td>  40</td>\n",
       "      <td>  218</td>\n",
       "      <td>  32</td>\n",
       "      <td>  209</td>\n",
       "    </tr>\n",
       "    <tr>\n",
       "      <th>21</th>\n",
       "      <td>  43</td>\n",
       "      <td>  364</td>\n",
       "      <td>  27</td>\n",
       "      <td>  391</td>\n",
       "    </tr>\n",
       "    <tr>\n",
       "      <th>22</th>\n",
       "      <td>  39</td>\n",
       "      <td>  674</td>\n",
       "      <td>  22</td>\n",
       "      <td>  680</td>\n",
       "    </tr>\n",
       "  </tbody>\n",
       "</table>\n",
       "</div>"
      ],
      "text/plain": [
       "       control.deaths  control.total  treated.deaths  treated.total\n",
       "study                                                              \n",
       "1                   3             39               3             38\n",
       "2                  14            116               7            114\n",
       "3                  11             93               5             69\n",
       "4                 127           1520             102           1533\n",
       "5                  27            365              28            355\n",
       "6                   6             52               4             59\n",
       "7                 152            939              98            945\n",
       "8                  48            471              60            632\n",
       "9                  37            282              25            278\n",
       "10                188           1921             138           1916\n",
       "11                 52            583              64            873\n",
       "12                 47            266              45            263\n",
       "13                 16            293               9            291\n",
       "14                 45            883              57            858\n",
       "15                 31            147              25            154\n",
       "16                 38            213              33            207\n",
       "17                 12            122              28            251\n",
       "18                  6            154               8            151\n",
       "19                  3            134               6            174\n",
       "20                 40            218              32            209\n",
       "21                 43            364              27            391\n",
       "22                 39            674              22            680"
      ]
     },
     "execution_count": 25,
     "metadata": {},
     "output_type": "execute_result"
    }
   ],
   "source": [
    "blocker_data"
   ]
  },
  {
   "cell_type": "markdown",
   "metadata": {},
   "source": [
    "Our estimand in this analysis is log odds ratio; this is estimated by empirical logit which sampling variance is estimated by eq (5.24).  We regard these values as means and variances of hierarchical normal means model.  First, let us calculate these values:"
   ]
  },
  {
   "cell_type": "code",
   "execution_count": 26,
   "metadata": {
    "collapsed": false
   },
   "outputs": [],
   "source": [
    "blocker_data['means'] = np.log(blocker_data['treated.deaths']\\\n",
    "                               /(blocker_data['treated.total']-blocker_data['treated.deaths'])) \\\n",
    "                        - np.log(blocker_data['control.deaths']\\\n",
    "                               /(blocker_data['control.total']-blocker_data['control.deaths']))\n",
    "blocker_data['serrs'] = np.sqrt(1.0/blocker_data['treated.deaths'] + \n",
    "                                1.0/(blocker_data['treated.total'] - 1.0/blocker_data['treated.deaths']) + \n",
    "                                1.0/blocker_data['control.deaths'] + \n",
    "                                1.0/(blocker_data['control.total'] - 1.0/blocker_data['control.deaths']))                                "
   ]
  },
  {
   "cell_type": "code",
   "execution_count": 27,
   "metadata": {
    "collapsed": false
   },
   "outputs": [
    {
     "data": {
      "image/png": "[encoded data removed]",
      "text/plain": [
       "<matplotlib.figure.Figure at 0x10ffb78d0>"
      ]
     },
     "metadata": {},
     "output_type": "display_data"
    }
   ],
   "source": [
    "import pylab as pl\n",
    "# grid points to evaluate evaluate density function\n",
    "tau_min = 0; tau_max = 0.6; tau_grid_num = 1000\n",
    "tau_knots = np.linspace(tau_min, tau_max, tau_grid_num)\n",
    "lop_posterior_tau_densities = \\\n",
    "    log_posterior_tau(tau_knots, blocker_data.means, \n",
    "                      blocker_data.serrs, log_prior=lambda tau: 0)\n",
    "# when calculating densities, it is numerically more stable to \n",
    "# first compute in log space, subtract the maximum, and then exponentiate\n",
    "posterior_tau_densities = \\\n",
    "        np.exp(lop_posterior_tau_densities - np.max(lop_posterior_tau_densities))\n",
    "#np.exp(log_posterior_tau_densities - log_posterior_tau_densities.max())\n",
    "pl.plot(tau_knots, posterior_tau_densities, color='k', linestyle='-', linewidth=1)\n",
    "pl.axes().set_xlabel(r'$\\tau$')\n",
    "# the y-axis of unnormalized posterior means nothing, so rather hide the scale\n",
    "pl.axes().get_yaxis().set_visible(False)"
   ]
  },
  {
   "cell_type": "markdown",
   "metadata": {},
   "source": [
    "As mentioned in the book, the marginal posterior density function of $\\tau$ peaks at nonzero value, but still values around zero are quite plausible.\n",
    "\n",
    "The plot below shows mean effects conditioned on $\\tau$; combined with the information from plot above, this indicates that moderate amount of shrinkage in estimates are necessary."
   ]
  },
  {
   "cell_type": "code",
   "execution_count": 28,
   "metadata": {
    "collapsed": false
   },
   "outputs": [
    {
     "data": {
      "image/png": "[encoded data removed]",
      "text/plain": [
       "<matplotlib.figure.Figure at 0x10fd67110>"
      ]
     },
     "metadata": {},
     "output_type": "display_data"
    }
   ],
   "source": [
    "def mean_posterior_given_tau(tau, means, serrs):\n",
    "    assert(len(means) == len(serrs))\n",
    "    marginal_variances = serrs ** 2 + tau ** 2\n",
    "    total_variance = 1.0/np.sum(1.0/marginal_variances)\n",
    "    # precision weighted average\n",
    "    mu_hat = np.sum((1.0/marginal_variances) * means) / \\\n",
    "            np.sum(1.0/marginal_variances)\n",
    "    if tau == 0:\n",
    "        return np.repeat(mu_hat, len(means))\n",
    "    return ((1.0/(serrs ** 2)) * means + 1.0/(tau ** 2) * mu_hat) / (1.0/(serrs ** 2) + 1.0/(tau ** 2))\n",
    "\n",
    "def sd_posterior_given_tau(tau, serrs):\n",
    "    marginal_variances = serrs ** 2 + tau ** 2\n",
    "    total_variance = 1.0/np.sum(1.0/marginal_variances)\n",
    "    individual_variances = (((serrs ** 2)/(serrs ** 2 + tau ** 2)) ** 2) * total_variance\n",
    "    if tau == 0:\n",
    "        return np.sqrt(individual_variances)\n",
    "    return np.sqrt(individual_variances + 1.0 / (1.0/(serrs ** 2) + 1.0/(tau ** 2)))\n",
    "\n",
    "mean_posterior_given_taus = \\\n",
    "    np.vectorize(mean_posterior_given_tau, otypes=[np.ndarray], excluded=[1,2])\n",
    "tau_conditional_means = \\\n",
    "        pandas.DataFrame.from_records(mean_posterior_given_taus(tau_knots, blocker_data.means, blocker_data.serrs),\n",
    "                                      index=tau_knots, columns=blocker_data.index)\n",
    "    \n",
    "sd_posterior_given_taus = \\\n",
    "    np.vectorize(sd_posterior_given_tau, otypes=[np.ndarray], excluded=[1])\n",
    "tau_conditional_sds = \\\n",
    "        pandas.DataFrame.from_records(sd_posterior_given_taus(tau_knots, blocker_data.serrs),\n",
    "                                      index = tau_knots, columns=blocker_data.index)\n",
    "# I was not able to put inline labels in Python. \n",
    "# this page contains an example code for it: http://stackoverflow.com/questions/16992038/inline-labels-in-matplotlib\n",
    "tau_conditional_means.plot()\n",
    "pl.legend(bbox_to_anchor=(1.05, 1), loc=2)\n",
    "pl.ylim(-1,0.5)\n",
    "pl.axes().set_xlabel(r'$\\tau$')\n",
    "pl.show()"
   ]
  },
  {
   "cell_type": "markdown",
   "metadata": {},
   "source": [
    "Now let us sample from the joint posterior distribution."
   ]
  },
  {
   "cell_type": "code",
   "execution_count": 29,
   "metadata": {
    "collapsed": false
   },
   "outputs": [],
   "source": [
    "# seed the RNG\n",
    "np.random.seed(1353135)\n",
    "sample_num = 5000\n",
    "# first sample tau's\n",
    "tau_probs = posterior_tau_densities / posterior_tau_densities.sum()\n",
    "samples_tau = np.random.choice(tau_knots, sample_num, p=tau_probs)\n",
    "# now sample mu conditioned on tau\n",
    "samples_df = DataFrame.from_records(sample_means_from_taus(samples_tau, blocker_data.means, \n",
    "                                                           blocker_data.serrs, include_mu=True),\n",
    "                                    columns=np.concatenate((['mu'],blocker_data.index)))"
   ]
  },
  {
   "cell_type": "code",
   "execution_count": 30,
   "metadata": {
    "collapsed": false
   },
   "outputs": [],
   "source": [
    "samples_columns_df = samples_df.drop('mu', 1)"
   ]
  },
  {
   "cell_type": "markdown",
   "metadata": {},
   "source": [
    "Posterior quantiles in Table 5.4 can now be reproduced."
   ]
  },
  {
   "cell_type": "code",
   "execution_count": 31,
   "metadata": {
    "collapsed": false
   },
   "outputs": [
    {
     "data": {
      "text/html": [
       "<div style=\"max-height:1000px;max-width:1500px;overflow:auto;\">\n",
       "<table border=\"1\" class=\"dataframe\">\n",
       "  <thead>\n",
       "    <tr style=\"text-align: right;\">\n",
       "      <th></th>\n",
       "      <th>0.025</th>\n",
       "      <th>0.25</th>\n",
       "      <th>0.5</th>\n",
       "      <th>0.75</th>\n",
       "      <th>0.975</th>\n",
       "    </tr>\n",
       "  </thead>\n",
       "  <tbody>\n",
       "    <tr>\n",
       "      <th>1</th>\n",
       "      <td>-0.58</td>\n",
       "      <td>-0.32</td>\n",
       "      <td>-0.25</td>\n",
       "      <td>-0.15</td>\n",
       "      <td> 0.12</td>\n",
       "    </tr>\n",
       "    <tr>\n",
       "      <th>2</th>\n",
       "      <td>-0.64</td>\n",
       "      <td>-0.37</td>\n",
       "      <td>-0.28</td>\n",
       "      <td>-0.20</td>\n",
       "      <td>-0.01</td>\n",
       "    </tr>\n",
       "    <tr>\n",
       "      <th>3</th>\n",
       "      <td>-0.60</td>\n",
       "      <td>-0.35</td>\n",
       "      <td>-0.27</td>\n",
       "      <td>-0.19</td>\n",
       "      <td> 0.03</td>\n",
       "    </tr>\n",
       "    <tr>\n",
       "      <th>4</th>\n",
       "      <td>-0.44</td>\n",
       "      <td>-0.31</td>\n",
       "      <td>-0.25</td>\n",
       "      <td>-0.19</td>\n",
       "      <td>-0.06</td>\n",
       "    </tr>\n",
       "    <tr>\n",
       "      <th>5</th>\n",
       "      <td>-0.43</td>\n",
       "      <td>-0.28</td>\n",
       "      <td>-0.21</td>\n",
       "      <td>-0.10</td>\n",
       "      <td> 0.14</td>\n",
       "    </tr>\n",
       "    <tr>\n",
       "      <th>6</th>\n",
       "      <td>-0.61</td>\n",
       "      <td>-0.34</td>\n",
       "      <td>-0.26</td>\n",
       "      <td>-0.18</td>\n",
       "      <td> 0.05</td>\n",
       "    </tr>\n",
       "    <tr>\n",
       "      <th>7</th>\n",
       "      <td>-0.61</td>\n",
       "      <td>-0.43</td>\n",
       "      <td>-0.35</td>\n",
       "      <td>-0.28</td>\n",
       "      <td>-0.17</td>\n",
       "    </tr>\n",
       "    <tr>\n",
       "      <th>8</th>\n",
       "      <td>-0.41</td>\n",
       "      <td>-0.28</td>\n",
       "      <td>-0.21</td>\n",
       "      <td>-0.13</td>\n",
       "      <td> 0.10</td>\n",
       "    </tr>\n",
       "    <tr>\n",
       "      <th>9</th>\n",
       "      <td>-0.59</td>\n",
       "      <td>-0.36</td>\n",
       "      <td>-0.28</td>\n",
       "      <td>-0.21</td>\n",
       "      <td>-0.03</td>\n",
       "    </tr>\n",
       "    <tr>\n",
       "      <th>10</th>\n",
       "      <td>-0.48</td>\n",
       "      <td>-0.35</td>\n",
       "      <td>-0.29</td>\n",
       "      <td>-0.24</td>\n",
       "      <td>-0.13</td>\n",
       "    </tr>\n",
       "    <tr>\n",
       "      <th>11</th>\n",
       "      <td>-0.47</td>\n",
       "      <td>-0.31</td>\n",
       "      <td>-0.25</td>\n",
       "      <td>-0.17</td>\n",
       "      <td> 0.01</td>\n",
       "    </tr>\n",
       "    <tr>\n",
       "      <th>12</th>\n",
       "      <td>-0.43</td>\n",
       "      <td>-0.29</td>\n",
       "      <td>-0.21</td>\n",
       "      <td>-0.12</td>\n",
       "      <td> 0.10</td>\n",
       "    </tr>\n",
       "    <tr>\n",
       "      <th>13</th>\n",
       "      <td>-0.63</td>\n",
       "      <td>-0.36</td>\n",
       "      <td>-0.28</td>\n",
       "      <td>-0.20</td>\n",
       "      <td> 0.01</td>\n",
       "    </tr>\n",
       "    <tr>\n",
       "      <th>14</th>\n",
       "      <td>-0.34</td>\n",
       "      <td>-0.22</td>\n",
       "      <td>-0.13</td>\n",
       "      <td> 0.01</td>\n",
       "      <td> 0.29</td>\n",
       "    </tr>\n",
       "    <tr>\n",
       "      <th>15</th>\n",
       "      <td>-0.55</td>\n",
       "      <td>-0.34</td>\n",
       "      <td>-0.26</td>\n",
       "      <td>-0.19</td>\n",
       "      <td> 0.03</td>\n",
       "    </tr>\n",
       "    <tr>\n",
       "      <th>16</th>\n",
       "      <td>-0.47</td>\n",
       "      <td>-0.31</td>\n",
       "      <td>-0.23</td>\n",
       "      <td>-0.15</td>\n",
       "      <td> 0.07</td>\n",
       "    </tr>\n",
       "    <tr>\n",
       "      <th>17</th>\n",
       "      <td>-0.47</td>\n",
       "      <td>-0.29</td>\n",
       "      <td>-0.21</td>\n",
       "      <td>-0.11</td>\n",
       "      <td> 0.16</td>\n",
       "    </tr>\n",
       "    <tr>\n",
       "      <th>18</th>\n",
       "      <td>-0.49</td>\n",
       "      <td>-0.31</td>\n",
       "      <td>-0.23</td>\n",
       "      <td>-0.13</td>\n",
       "      <td> 0.17</td>\n",
       "    </tr>\n",
       "    <tr>\n",
       "      <th>19</th>\n",
       "      <td>-0.52</td>\n",
       "      <td>-0.31</td>\n",
       "      <td>-0.23</td>\n",
       "      <td>-0.14</td>\n",
       "      <td> 0.17</td>\n",
       "    </tr>\n",
       "    <tr>\n",
       "      <th>20</th>\n",
       "      <td>-0.50</td>\n",
       "      <td>-0.32</td>\n",
       "      <td>-0.25</td>\n",
       "      <td>-0.17</td>\n",
       "      <td> 0.04</td>\n",
       "    </tr>\n",
       "    <tr>\n",
       "      <th>21</th>\n",
       "      <td>-0.65</td>\n",
       "      <td>-0.40</td>\n",
       "      <td>-0.31</td>\n",
       "      <td>-0.24</td>\n",
       "      <td>-0.09</td>\n",
       "    </tr>\n",
       "    <tr>\n",
       "      <th>22</th>\n",
       "      <td>-0.65</td>\n",
       "      <td>-0.40</td>\n",
       "      <td>-0.30</td>\n",
       "      <td>-0.23</td>\n",
       "      <td>-0.07</td>\n",
       "    </tr>\n",
       "  </tbody>\n",
       "</table>\n",
       "</div>"
      ],
      "text/plain": [
       "    0.025  0.250  0.500  0.750  0.975\n",
       "1   -0.58  -0.32  -0.25  -0.15   0.12\n",
       "2   -0.64  -0.37  -0.28  -0.20  -0.01\n",
       "3   -0.60  -0.35  -0.27  -0.19   0.03\n",
       "4   -0.44  -0.31  -0.25  -0.19  -0.06\n",
       "5   -0.43  -0.28  -0.21  -0.10   0.14\n",
       "6   -0.61  -0.34  -0.26  -0.18   0.05\n",
       "7   -0.61  -0.43  -0.35  -0.28  -0.17\n",
       "8   -0.41  -0.28  -0.21  -0.13   0.10\n",
       "9   -0.59  -0.36  -0.28  -0.21  -0.03\n",
       "10  -0.48  -0.35  -0.29  -0.24  -0.13\n",
       "11  -0.47  -0.31  -0.25  -0.17   0.01\n",
       "12  -0.43  -0.29  -0.21  -0.12   0.10\n",
       "13  -0.63  -0.36  -0.28  -0.20   0.01\n",
       "14  -0.34  -0.22  -0.13   0.01   0.29\n",
       "15  -0.55  -0.34  -0.26  -0.19   0.03\n",
       "16  -0.47  -0.31  -0.23  -0.15   0.07\n",
       "17  -0.47  -0.29  -0.21  -0.11   0.16\n",
       "18  -0.49  -0.31  -0.23  -0.13   0.17\n",
       "19  -0.52  -0.31  -0.23  -0.14   0.17\n",
       "20  -0.50  -0.32  -0.25  -0.17   0.04\n",
       "21  -0.65  -0.40  -0.31  -0.24  -0.09\n",
       "22  -0.65  -0.40  -0.30  -0.23  -0.07"
      ]
     },
     "execution_count": 31,
     "metadata": {},
     "output_type": "execute_result"
    }
   ],
   "source": [
    "samples_columns_df.quantile([0.025,0.25,0.5,0.75,0.975]).transpose().apply(lambda x:np.round(x,decimals=2))"
   ]
  },
  {
   "cell_type": "markdown",
   "metadata": {},
   "source": [
    "Now let us sample predicted effects."
   ]
  },
  {
   "cell_type": "code",
   "execution_count": 32,
   "metadata": {
    "collapsed": false
   },
   "outputs": [],
   "source": [
    "samples_predicted_effect = np.zeros(len(samples_tau))\n",
    "samples_predicted_effect[samples_tau > 0] = np.random.normal(loc=samples_df['mu'][samples_tau > 0],scale=samples_tau[samples_tau > 0])\n",
    "samples_predicted_effect[samples_tau == 0] = samples_df['mu'][samples_tau == 0]"
   ]
  },
  {
   "cell_type": "markdown",
   "metadata": {},
   "source": [
    "Now Table 5.5 can be reproduced."
   ]
  },
  {
   "cell_type": "code",
   "execution_count": 33,
   "metadata": {
    "collapsed": false
   },
   "outputs": [
    {
     "data": {
      "text/html": [
       "<div style=\"max-height:1000px;max-width:1500px;overflow:auto;\">\n",
       "<table border=\"1\" class=\"dataframe\">\n",
       "  <thead>\n",
       "    <tr style=\"text-align: right;\">\n",
       "      <th></th>\n",
       "      <th>0.025</th>\n",
       "      <th>0.25</th>\n",
       "      <th>0.5</th>\n",
       "      <th>0.75</th>\n",
       "      <th>0.975</th>\n",
       "    </tr>\n",
       "  </thead>\n",
       "  <tbody>\n",
       "    <tr>\n",
       "      <th>mean</th>\n",
       "      <td>-0.37</td>\n",
       "      <td>-0.29</td>\n",
       "      <td>-0.25</td>\n",
       "      <td>-0.21</td>\n",
       "      <td>-0.11</td>\n",
       "    </tr>\n",
       "    <tr>\n",
       "      <th>predicted_effect</th>\n",
       "      <td>-0.60</td>\n",
       "      <td>-0.33</td>\n",
       "      <td>-0.25</td>\n",
       "      <td>-0.16</td>\n",
       "      <td> 0.14</td>\n",
       "    </tr>\n",
       "    <tr>\n",
       "      <th>standard deviation</th>\n",
       "      <td> 0.01</td>\n",
       "      <td> 0.07</td>\n",
       "      <td> 0.13</td>\n",
       "      <td> 0.18</td>\n",
       "      <td> 0.31</td>\n",
       "    </tr>\n",
       "  </tbody>\n",
       "</table>\n",
       "</div>"
      ],
      "text/plain": [
       "                    0.025  0.250  0.500  0.750  0.975\n",
       "mean                -0.37  -0.29  -0.25  -0.21  -0.11\n",
       "predicted_effect    -0.60  -0.33  -0.25  -0.16   0.14\n",
       "standard deviation   0.01   0.07   0.13   0.18   0.31"
      ]
     },
     "execution_count": 33,
     "metadata": {},
     "output_type": "execute_result"
    }
   ],
   "source": [
    "DataFrame({'mean':samples_df['mu'], \n",
    "           'standard deviation':samples_tau, \n",
    "           'predicted_effect':samples_predicted_effect}).quantile([0.025,0.25,0.5,0.75,0.975]).transpose().apply(lambda x:np.round(x,decimals=2))"
   ]
  },
  {
   "cell_type": "markdown",
   "metadata": {},
   "source": [
    "Histograms of estimates, not shown in the book, are presented below."
   ]
  },
  {
   "cell_type": "code",
   "execution_count": 34,
   "metadata": {
    "collapsed": false
   },
   "outputs": [
    {
     "data": {
      "text/plain": [
       "array([[<matplotlib.axes._subplots.AxesSubplot object at 0x10faf2bd0>,\n",
       "        <matplotlib.axes._subplots.AxesSubplot object at 0x10ffec850>,\n",
       "        <matplotlib.axes._subplots.AxesSubplot object at 0x110f20390>,\n",
       "        <matplotlib.axes._subplots.AxesSubplot object at 0x110042d50>,\n",
       "        <matplotlib.axes._subplots.AxesSubplot object at 0x10ff78710>],\n",
       "       [<matplotlib.axes._subplots.AxesSubplot object at 0x10fed8c90>,\n",
       "        <matplotlib.axes._subplots.AxesSubplot object at 0x110064bd0>,\n",
       "        <matplotlib.axes._subplots.AxesSubplot object at 0x10ffc5950>,\n",
       "        <matplotlib.axes._subplots.AxesSubplot object at 0x110f84e50>,\n",
       "        <matplotlib.axes._subplots.AxesSubplot object at 0x110fc1fd0>],\n",
       "       [<matplotlib.axes._subplots.AxesSubplot object at 0x111a5e390>,\n",
       "        <matplotlib.axes._subplots.AxesSubplot object at 0x1118e3690>,\n",
       "        <matplotlib.axes._subplots.AxesSubplot object at 0x111966810>,\n",
       "        <matplotlib.axes._subplots.AxesSubplot object at 0x111add710>,\n",
       "        <matplotlib.axes._subplots.AxesSubplot object at 0x111b5e890>],\n",
       "       [<matplotlib.axes._subplots.AxesSubplot object at 0x111bade10>,\n",
       "        <matplotlib.axes._subplots.AxesSubplot object at 0x10b740f90>,\n",
       "        <matplotlib.axes._subplots.AxesSubplot object at 0x10b7c3c10>,\n",
       "        <matplotlib.axes._subplots.AxesSubplot object at 0x111e26750>,\n",
       "        <matplotlib.axes._subplots.AxesSubplot object at 0x111eab7d0>],\n",
       "       [<matplotlib.axes._subplots.AxesSubplot object at 0x111f10050>,\n",
       "        <matplotlib.axes._subplots.AxesSubplot object at 0x111f931d0>,\n",
       "        <matplotlib.axes._subplots.AxesSubplot object at 0x111f4a4d0>,\n",
       "        <matplotlib.axes._subplots.AxesSubplot object at 0x11207b910>,\n",
       "        <matplotlib.axes._subplots.AxesSubplot object at 0x1120fea50>]], dtype=object)"
      ]
     },
     "execution_count": 34,
     "metadata": {},
     "output_type": "execute_result"
    },
    {
     "data": {
      "image/png": "[encoded data removed]",
      "text/plain": [
       "<matplotlib.figure.Figure at 0x10fc38390>"
      ]
     },
     "metadata": {},
     "output_type": "display_data"
    }
   ],
   "source": [
    "samples_columns_df.hist(figsize=(12,12),sharex=True, bins=20)"
   ]
  },
  {
   "cell_type": "code",
   "execution_count": 35,
   "metadata": {
    "collapsed": false
   },
   "outputs": [],
   "source": [
    "def mean_posterior_of_mean_given_tau(tau, means, serrs):\n",
    "    assert(len(means) == len(serrs))\n",
    "    marginal_variances = serrs ** 2 + tau ** 2\n",
    "    total_variance = 1.0/np.sum(1.0/marginal_variances)\n",
    "    # precision weighted average\n",
    "    mu_hat = np.sum((1.0/marginal_variances) * means) / \\\n",
    "            np.sum(1.0/marginal_variances)\n",
    "    return mu_hat\n",
    "\n",
    "def sd_posterior_of_mean_given_tau(tau, means, serrs):\n",
    "    assert(len(means) == len(serrs))\n",
    "    marginal_variances = serrs ** 2 + tau ** 2\n",
    "    total_variance = 1.0/np.sum(1.0/marginal_variances)\n",
    "    return np.sqrt(total_variance)\n",
    "\n",
    "mean_posterior_of_mean_given_taus = \\\n",
    "    np.vectorize(mean_posterior_of_mean_given_tau, otypes=[np.ndarray], excluded=[1,2])\n",
    "sd_posterior_of_mean_given_taus = \\\n",
    "    np.vectorize(sd_posterior_of_mean_given_tau, otypes=[np.ndarray], excluded=[1,2])"
   ]
  },
  {
   "cell_type": "markdown",
   "metadata": {},
   "source": [
    "Recall this was the posterior density of $\\tau$:"
   ]
  },
  {
   "cell_type": "code",
   "execution_count": 36,
   "metadata": {
    "collapsed": false
   },
   "outputs": [
    {
     "data": {
      "image/png": "[encoded data removed]",
      "text/plain": [
       "<matplotlib.figure.Figure at 0x10fd95a90>"
      ]
     },
     "metadata": {},
     "output_type": "display_data"
    }
   ],
   "source": [
    "pl.plot(tau_knots, posterior_tau_densities, color='k', linestyle='-', linewidth=1)\n",
    "pl.axes().set_xlabel(r'$\\tau$')\n",
    "# the y-axis of unnormalized posterior means nothing, so rather hide the scale\n",
    "pl.axes().get_yaxis().set_visible(False)"
   ]
  },
  {
   "cell_type": "markdown",
   "metadata": {},
   "source": [
    "Compared to the posterior quantile values of data, the conditional $\\mu \\mid \\tau$ changes very little within most plausible region of $\\tau$."
   ]
  },
  {
   "cell_type": "code",
   "execution_count": 37,
   "metadata": {
    "collapsed": false
   },
   "outputs": [
    {
     "data": {
      "text/plain": [
       "<matplotlib.text.Text at 0x112456dd0>"
      ]
     },
     "execution_count": 37,
     "metadata": {},
     "output_type": "execute_result"
    },
    {
     "data": {
      "image/png": "[encoded data removed]",
      "text/plain": [
       "<matplotlib.figure.Figure at 0x11247fc90>"
      ]
     },
     "metadata": {},
     "output_type": "display_data"
    }
   ],
   "source": [
    "pl.plot(tau_knots, mean_posterior_of_mean_given_taus(tau_knots, blocker_data.means, blocker_data.serrs))\n",
    "#pl.ylim((-0.6,0.1))\n",
    "pl.axes().set_xlabel(r'$E[\\mu \\mid \\tau,y]$')"
   ]
  },
  {
   "cell_type": "markdown",
   "metadata": {},
   "source": [
    "However, the standard deviation changes greatly."
   ]
  },
  {
   "cell_type": "code",
   "execution_count": 38,
   "metadata": {
    "collapsed": false
   },
   "outputs": [
    {
     "data": {
      "text/plain": [
       "<matplotlib.text.Text at 0x112512f50>"
      ]
     },
     "execution_count": 38,
     "metadata": {},
     "output_type": "execute_result"
    },
    {
     "data": {
      "image/png": "[encoded data removed]",
      "text/plain": [
       "<matplotlib.figure.Figure at 0x11331e6d0>"
      ]
     },
     "metadata": {},
     "output_type": "display_data"
    }
   ],
   "source": [
    "pl.plot(tau_knots, sd_posterior_of_mean_given_taus(tau_knots, blocker_data.means, blocker_data.serrs))\n",
    "pl.axes().set_xlabel(r'sd$[\\mu \\mid \\tau,y]$')"
   ]
  },
  {
   "cell_type": "markdown",
   "metadata": {},
   "source": [
    "The book comments the value of $\\text{sd}(\\mu \\mid \\tau,y)$ at $\\tau=0.13$:"
   ]
  },
  {
   "cell_type": "code",
   "execution_count": 39,
   "metadata": {
    "collapsed": false
   },
   "outputs": [
    {
     "data": {
      "text/plain": [
       "0.061826519379229505"
      ]
     },
     "execution_count": 39,
     "metadata": {},
     "output_type": "execute_result"
    }
   ],
   "source": [
    "sd_posterior_of_mean_given_tau(0.13, blocker_data.means, blocker_data.serrs)"
   ]
  },
  {
   "cell_type": "markdown",
   "metadata": {},
   "source": [
    "On the other hand, $\\text{sd}(\\mu \\mid y)$, marginalized over $\\tau$, can be computed from posterior samples as follows:"
   ]
  },
  {
   "cell_type": "code",
   "execution_count": 40,
   "metadata": {
    "collapsed": false
   },
   "outputs": [
    {
     "data": {
      "text/plain": [
       "0.064647961365995488"
      ]
     },
     "execution_count": 40,
     "metadata": {},
     "output_type": "execute_result"
    }
   ],
   "source": [
    "samples_df['mu'].std()"
   ]
  },
  {
   "cell_type": "markdown",
   "metadata": {},
   "source": [
    "Well this is a bit different from the value in the book, 0.071.  I wonder why...?"
   ]
  },
  {
   "cell_type": "code",
   "execution_count": 40,
   "metadata": {
    "collapsed": false
   },
   "outputs": [],
   "source": []
  }
 ],
 "metadata": {
  "kernelspec": {
   "display_name": "Python [Root]",
   "language": "python",
   "name": "Python [Root]"
  },
  "language_info": {
   "codemirror_mode": {
    "name": "ipython",
    "version": 2
   },
   "file_extension": ".py",
   "mimetype": "text/x-python",
   "name": "python",
   "nbconvert_exporter": "python",
   "pygments_lexer": "ipython2",
   "version": "2.7.12"
  }
 },
 "nbformat": 4,
 "nbformat_minor": 0
}
